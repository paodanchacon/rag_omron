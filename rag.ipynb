{
 "cells": [
  {
   "cell_type": "markdown",
   "metadata": {},
   "source": [
    "# Import dependencies"
   ]
  },
  {
   "cell_type": "code",
   "execution_count": 33,
   "metadata": {},
   "outputs": [
    {
     "data": {
      "text/plain": [
       "True"
      ]
     },
     "execution_count": 33,
     "metadata": {},
     "output_type": "execute_result"
    }
   ],
   "source": [
    "from llama_index.core import VectorStoreIndex, SimpleDirectoryReader, StorageContext, load_index_from_storage\n",
    "import openai\n",
    "import os\n",
    "from dotenv import load_dotenv\n",
    "load_dotenv()\n"
   ]
  },
  {
   "cell_type": "code",
   "execution_count": 34,
   "metadata": {},
   "outputs": [],
   "source": [
    "PERSIST_DIR = \"./storage\"\n",
    "if not os.path.exists(PERSIST_DIR):\n",
    "    documents = SimpleDirectoryReader(\"data\").load_data()\n",
    "    index = VectorStoreIndex.from_documents(documents)\n",
    "    index.storage_context.persist(persist_dir=PERSIST_DIR)\n",
    "else:\n",
    "    storage_context = StorageContext.from_defaults(persist_dir=PERSIST_DIR)\n",
    "    index = load_index_from_storage(storage_context)"
   ]
  },
  {
   "cell_type": "code",
   "execution_count": 35,
   "metadata": {},
   "outputs": [],
   "source": [
    "query_engine = index.as_query_engine()"
   ]
  },
  {
   "cell_type": "code",
   "execution_count": 8,
   "metadata": {},
   "outputs": [],
   "source": [
    "response = query_engine.query(\"how to backup the plc program in an sd memory card? detail all the process in steps and possible errors or things to consider\")  "
   ]
  },
  {
   "cell_type": "code",
   "execution_count": 9,
   "metadata": {},
   "outputs": [
    {
     "name": "stdout",
     "output_type": "stream",
     "text": [
      "To backup the PLC program in an SD Memory Card, follow these steps:\n",
      "\n",
      "1. Ensure the SD Memory Card has sufficient available space.\n",
      "2. Save the backup file and restore command file in the root directory of the SD Memory Card.\n",
      "3. Set the DIP switch pins on the CPU Unit to 1: OFF, 2: OFF, 3: ON, and 4: OFF.\n",
      "4. Press the SD Memory Card power supply switch for 3 seconds to start the backup operation.\n",
      "5. The backup operation will process all data groups and create backup-related files in the specified directory on the SD Memory Card.\n",
      "6. If any errors occur during the backup process, follow the error attributes and possible corrections provided in the manuals.\n",
      "7. Ensure the SD Memory Card is not removed during the backup operation.\n",
      "8. Keep the SD Memory Card mounted after the backup is completed.\n",
      "\n",
      "Possible errors or things to consider during the backup process:\n",
      "- Insufficient space on the SD Memory Card.\n",
      "- Data write operations to the CPU Unit in progress.\n",
      "- SD Memory Card removed during the backup operation.\n",
      "- Backup canceled by the user.\n",
      "- Save Cam Table instruction or changing the CPU Unit name in progress.\n",
      "- Disconnection of the online connection with Sysmac Studio.\n",
      "- Insufficient space on the computer's hard disk for saving backup data.\n",
      "- Damaged SD Memory Card.\n",
      "- Invalid SD Memory Card format or write protection.\n",
      "- Non-existence of the /D folder on the SD Memory Card for backup data.\n"
     ]
    }
   ],
   "source": [
    "print(response)"
   ]
  },
  {
   "cell_type": "code",
   "execution_count": 13,
   "metadata": {},
   "outputs": [
    {
     "name": "stdout",
     "output_type": "stream",
     "text": [
      "The unit has one SD card slot. The second internal SD card that is not user serviceable is likely used for system functions or internal operations. Accessing the data of the second SD card may not be possible for the user as it is not intended for user interaction or data storage.\n"
     ]
    }
   ],
   "source": [
    "response = query_engine.query(\"how many sd card slots has the unit? In a detailed inspection, I found a second internal sd card not user serviceable, what is that used for? how can i access the data of the second sd card?\")\n",
    "print(response)"
   ]
  },
  {
   "cell_type": "code",
   "execution_count": 17,
   "metadata": {},
   "outputs": [
    {
     "name": "stdout",
     "output_type": "stream",
     "text": [
      "To make a backup of the program when a CPU Unit Watchdog Timer Error is identified, follow the instructions provided in the manual for backing up data using the SD Memory Card backup functions or the Sysmac Studio Controller backup functions. To solve the CPU Unit Watchdog Timer Error, ensure that the servicing of the CJ-series Units from the CPU Unit is completed within the specified amount of time. This error occurs due to the time required to restore data and does not indicate a critical issue. If the error persists, refer to the troubleshooting manual for specific corrective measures related to the error code and indicators displayed on the CJ-series Units.\n"
     ]
    }
   ],
   "source": [
    "response = query_engine.query(\"How to make a backup of the program if I identified that the unit a CPU Unit Watchdog Timer Error? also tell me how to solve that error\")\n",
    "print(response)"
   ]
  },
  {
   "cell_type": "code",
   "execution_count": 19,
   "metadata": {},
   "outputs": [
    {
     "name": "stdout",
     "output_type": "stream",
     "text": [
      "Disconnecting the internal battery of the unit can lead to memory loss issues. Without the battery, the built-in non-volatile memory will not retain values such as user program configurations and setup, event log data, clock data, and values of variables. In the absence of the battery, the memory will revert to initial values or be cleared to zeros depending on the type of data. This can result in the loss of important data and configurations stored in the CPU unit, impacting the system's functionality and potentially causing errors or malfunctions. It is crucial to ensure the battery is properly connected and maintained to prevent memory loss issues.\n"
     ]
    }
   ],
   "source": [
    "response = query_engine.query(\"what happens if I disconnect the internal battery of the unit? explain with detail memory loss issues\")\n",
    "print(response)"
   ]
  },
  {
   "cell_type": "code",
   "execution_count": 20,
   "metadata": {},
   "outputs": [
    {
     "name": "stdout",
     "output_type": "stream",
     "text": [
      "Yes, it is possible to encounter a CPU watchdog timer error due to memory loss resulting from improper management of the internal battery. The sources for this answer are the provided information on the Battery-backup Memory Check Error event and the associated causes and corrections outlined in the troubleshooting manual.\n"
     ]
    }
   ],
   "source": [
    "response = query_engine.query(\"is it possible to get a CPU watchdog timer error because memory loss due to an improper management of the internal battery? list the sources for the answer\")\n",
    "print(response)"
   ]
  },
  {
   "cell_type": "code",
   "execution_count": 25,
   "metadata": {},
   "outputs": [
    {
     "name": "stdout",
     "output_type": "stream",
     "text": [
      "A battery-backup memory check error can lead to a CPU watchdog timer error in certain cases. The sources of information, manuals, and sections related to this are as follows:\n",
      "- NJ/NX-series Troubleshooting Manual (W503)\n",
      "- Section: 3 Error Descriptions and Corrections\n",
      "- Event name: Battery-backup Memory Check Error\n",
      "- Event code: 10090000 hex\n",
      "- Source: PLC Function Module or Motion Control Function Module\n",
      "- Detection timing: At power ON or Controller reset\n",
      "- Effects: User program continues, but normal user program execution or normal Unit operation may not be possible\n",
      "- Causes and corrections: Low battery voltage, loose battery connector, missing battery\n",
      "- Precautions/Remarks: Set correct data for variables with a Retain attribute after implementing countermeasures\n",
      "\n",
      "In summary, a battery-backup memory check error can potentially lead to a CPU watchdog timer error if the underlying issues such as low battery voltage, loose connector, or missing battery are not addressed promptly and correctly.\n"
     ]
    }
   ],
   "source": [
    "response = query_engine.query(\"can a batter-backup memory check error lead to a cpu watchdog timer error? in what cases? list all the sources of information, manuals and sections\")\n",
    "print(response)"
   ]
  },
  {
   "cell_type": "code",
   "execution_count": 26,
   "metadata": {},
   "outputs": [
    {
     "name": "stdout",
     "output_type": "stream",
     "text": [
      "- Blow out the CPU Unit with air if a conductive object has gotten inside.\n",
      "- Cycle the power to the Controller to see if that resets the error.\n",
      "- Check the FG and power supply lines for noise entering on them and implement noise countermeasures as required.\n",
      "- If the error persists after the above corrections, replace the CPU Unit.\n"
     ]
    }
   ],
   "source": [
    "response = query_engine.query(\"list all the options and the corresponding detailed procedure for solving the CPU watchdog timer error\")\n",
    "print(response)"
   ]
  },
  {
   "cell_type": "code",
   "execution_count": 28,
   "metadata": {},
   "outputs": [
    {
     "name": "stdout",
     "output_type": "stream",
     "text": [
      "Yes, it is possible to recover a backup file of the program during a CPU watchdog timer error. The procedure involves starting the backup by pressing the SD Memory Card power supply switch for 3 seconds with specific DIP switch pin settings. This action initiates the backup process, saving data from the Controller to the SD Memory Card. If an error occurs during the backup process, the previous backup-related files will be retained, ensuring that the data is not lost.\n"
     ]
    }
   ],
   "source": [
    "response = query_engine.query(\"is it possible to recover a backup file of the program during a CPU watchdog timer error? detail the procedure\")\n",
    "print(response)"
   ]
  },
  {
   "cell_type": "code",
   "execution_count": 30,
   "metadata": {},
   "outputs": [
    {
     "name": "stdout",
     "output_type": "stream",
     "text": [
      "You can access the internal logs of the unit by checking the current Controller events and the event log of past events using the Sysmac Studio software.\n"
     ]
    }
   ],
   "source": [
    "response = query_engine.query(\"How can i access the internal logs of the unit?\")\n",
    "print(response)"
   ]
  },
  {
   "cell_type": "code",
   "execution_count": 31,
   "metadata": {},
   "outputs": [
    {
     "name": "stdout",
     "output_type": "stream",
     "text": [
      "The causes for the error \"Failed to transfer EtherCAT slave backup parameters\" include:\n",
      "1. No connection between the EtherCAT master and the slave (Link OFF).\n",
      "2. Incorrect EtherCAT master status.\n",
      "3. EtherCAT network configuration information not matching the physical network configuration.\n",
      "4. Request to the EtherCAT slave failed.\n",
      "5. EtherCAT master temporarily unable to perform processing due to executing other tasks.\n",
      "6. Initialization of the EtherCAT slave failed.\n",
      "7. Unable to read the backup parameters from the EtherCAT slave.\n"
     ]
    }
   ],
   "source": [
    "response = query_engine.query(\"describe the error: 'Failed to transfer EtherCAT slave backup parameters', what are the causes?\")\n",
    "print(response)"
   ]
  },
  {
   "cell_type": "code",
   "execution_count": 32,
   "metadata": {},
   "outputs": [],
   "source": [
    "index.storage_context.persist()"
   ]
  },
  {
   "cell_type": "code",
   "execution_count": null,
   "metadata": {},
   "outputs": [],
   "source": []
  }
 ],
 "metadata": {
  "kernelspec": {
   "display_name": "Python 3",
   "language": "python",
   "name": "python3"
  },
  "language_info": {
   "codemirror_mode": {
    "name": "ipython",
    "version": 3
   },
   "file_extension": ".py",
   "mimetype": "text/x-python",
   "name": "python",
   "nbconvert_exporter": "python",
   "pygments_lexer": "ipython3",
   "version": "3.12.5"
  }
 },
 "nbformat": 4,
 "nbformat_minor": 2
}
